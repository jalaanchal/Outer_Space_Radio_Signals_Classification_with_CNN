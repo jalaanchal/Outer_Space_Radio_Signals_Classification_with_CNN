{
 "cells": [
  {
   "cell_type": "markdown",
   "metadata": {
    "colab_type": "text",
    "id": "fB2voc0SFB0W"
   },
   "source": [
    "## Step 1: Import Libraries"
   ]
  },
  {
   "cell_type": "code",
   "execution_count": 26,
   "metadata": {
    "colab": {},
    "colab_type": "code",
    "id": "2pO03vSBEc6D"
   },
   "outputs": [
    {
     "name": "stdout",
     "output_type": "stream",
     "text": [
      "Tensorflow version: 2.3.0\n"
     ]
    }
   ],
   "source": [
    "import pandas as pd\n",
    "import numpy as np\n",
    "np.random.seed(42)\n",
    "import matplotlib.pyplot as plt\n",
    "%matplotlib inline\n",
    "\n",
    "import tensorflow as tf\n",
    "print('Tensorflow version:', tf.__version__)"
   ]
  },
  {
   "cell_type": "markdown",
   "metadata": {
    "colab_type": "text",
    "id": "lYt4AvyeFJPn"
   },
   "source": [
    "## Step 2: Load and Preprocess SETI Data"
   ]
  },
  {
   "cell_type": "code",
   "execution_count": 2,
   "metadata": {
    "colab": {},
    "colab_type": "code",
    "id": "oDubuBkZEgaE"
   },
   "outputs": [],
   "source": [
    "train_images = pd.read_csv('dataset/train/images.csv', header=None)\n",
    "train_labels = pd.read_csv('dataset/train/labels.csv', header=None)\n",
    "\n",
    "val_images = pd.read_csv('dataset/validation/images.csv', header=None)\n",
    "val_labels = pd.read_csv('dataset/validation/labels.csv', header=None)"
   ]
  },
  {
   "cell_type": "code",
   "execution_count": 3,
   "metadata": {
    "colab": {},
    "colab_type": "code",
    "id": "VVISghQ3Egcd"
   },
   "outputs": [
    {
     "data": {
      "text/html": [
       "<div>\n",
       "<style scoped>\n",
       "    .dataframe tbody tr th:only-of-type {\n",
       "        vertical-align: middle;\n",
       "    }\n",
       "\n",
       "    .dataframe tbody tr th {\n",
       "        vertical-align: top;\n",
       "    }\n",
       "\n",
       "    .dataframe thead th {\n",
       "        text-align: right;\n",
       "    }\n",
       "</style>\n",
       "<table border=\"1\" class=\"dataframe\">\n",
       "  <thead>\n",
       "    <tr style=\"text-align: right;\">\n",
       "      <th></th>\n",
       "      <th>0</th>\n",
       "      <th>1</th>\n",
       "      <th>2</th>\n",
       "      <th>3</th>\n",
       "      <th>4</th>\n",
       "      <th>5</th>\n",
       "      <th>6</th>\n",
       "      <th>7</th>\n",
       "      <th>8</th>\n",
       "      <th>9</th>\n",
       "      <th>...</th>\n",
       "      <th>8182</th>\n",
       "      <th>8183</th>\n",
       "      <th>8184</th>\n",
       "      <th>8185</th>\n",
       "      <th>8186</th>\n",
       "      <th>8187</th>\n",
       "      <th>8188</th>\n",
       "      <th>8189</th>\n",
       "      <th>8190</th>\n",
       "      <th>8191</th>\n",
       "    </tr>\n",
       "  </thead>\n",
       "  <tbody>\n",
       "    <tr>\n",
       "      <th>0</th>\n",
       "      <td>0.631373</td>\n",
       "      <td>0.623529</td>\n",
       "      <td>0.713726</td>\n",
       "      <td>0.705882</td>\n",
       "      <td>0.658824</td>\n",
       "      <td>0.666667</td>\n",
       "      <td>0.654902</td>\n",
       "      <td>0.635294</td>\n",
       "      <td>0.647059</td>\n",
       "      <td>0.705882</td>\n",
       "      <td>...</td>\n",
       "      <td>0.682353</td>\n",
       "      <td>0.611765</td>\n",
       "      <td>0.650980</td>\n",
       "      <td>0.658824</td>\n",
       "      <td>0.600000</td>\n",
       "      <td>0.603922</td>\n",
       "      <td>0.654902</td>\n",
       "      <td>0.694118</td>\n",
       "      <td>0.658824</td>\n",
       "      <td>0.666667</td>\n",
       "    </tr>\n",
       "    <tr>\n",
       "      <th>1</th>\n",
       "      <td>0.725490</td>\n",
       "      <td>0.752941</td>\n",
       "      <td>0.749020</td>\n",
       "      <td>0.701961</td>\n",
       "      <td>0.690196</td>\n",
       "      <td>0.721569</td>\n",
       "      <td>0.709804</td>\n",
       "      <td>0.745098</td>\n",
       "      <td>0.654902</td>\n",
       "      <td>0.721569</td>\n",
       "      <td>...</td>\n",
       "      <td>0.721569</td>\n",
       "      <td>0.698039</td>\n",
       "      <td>0.721569</td>\n",
       "      <td>0.686275</td>\n",
       "      <td>0.713726</td>\n",
       "      <td>0.682353</td>\n",
       "      <td>0.690196</td>\n",
       "      <td>0.698039</td>\n",
       "      <td>0.701961</td>\n",
       "      <td>0.725490</td>\n",
       "    </tr>\n",
       "    <tr>\n",
       "      <th>2</th>\n",
       "      <td>0.717647</td>\n",
       "      <td>0.701961</td>\n",
       "      <td>0.713726</td>\n",
       "      <td>0.733333</td>\n",
       "      <td>0.705882</td>\n",
       "      <td>0.717647</td>\n",
       "      <td>0.725490</td>\n",
       "      <td>0.682353</td>\n",
       "      <td>0.717647</td>\n",
       "      <td>0.674510</td>\n",
       "      <td>...</td>\n",
       "      <td>0.709804</td>\n",
       "      <td>0.694118</td>\n",
       "      <td>0.705882</td>\n",
       "      <td>0.682353</td>\n",
       "      <td>0.639216</td>\n",
       "      <td>0.713726</td>\n",
       "      <td>0.670588</td>\n",
       "      <td>0.678431</td>\n",
       "      <td>0.737255</td>\n",
       "      <td>0.674510</td>\n",
       "    </tr>\n",
       "    <tr>\n",
       "      <th>3</th>\n",
       "      <td>0.705882</td>\n",
       "      <td>0.674510</td>\n",
       "      <td>0.654902</td>\n",
       "      <td>0.678431</td>\n",
       "      <td>0.666667</td>\n",
       "      <td>0.662745</td>\n",
       "      <td>0.678431</td>\n",
       "      <td>0.662745</td>\n",
       "      <td>0.686275</td>\n",
       "      <td>0.686275</td>\n",
       "      <td>...</td>\n",
       "      <td>0.639216</td>\n",
       "      <td>0.662745</td>\n",
       "      <td>0.631373</td>\n",
       "      <td>0.643137</td>\n",
       "      <td>0.705882</td>\n",
       "      <td>0.662745</td>\n",
       "      <td>0.705882</td>\n",
       "      <td>0.666667</td>\n",
       "      <td>0.654902</td>\n",
       "      <td>0.631373</td>\n",
       "    </tr>\n",
       "    <tr>\n",
       "      <th>4</th>\n",
       "      <td>0.647059</td>\n",
       "      <td>0.729412</td>\n",
       "      <td>0.701961</td>\n",
       "      <td>0.674510</td>\n",
       "      <td>0.611765</td>\n",
       "      <td>0.698039</td>\n",
       "      <td>0.713726</td>\n",
       "      <td>0.662745</td>\n",
       "      <td>0.701961</td>\n",
       "      <td>0.674510</td>\n",
       "      <td>...</td>\n",
       "      <td>0.639216</td>\n",
       "      <td>0.670588</td>\n",
       "      <td>0.705882</td>\n",
       "      <td>0.674510</td>\n",
       "      <td>0.721569</td>\n",
       "      <td>0.694118</td>\n",
       "      <td>0.674510</td>\n",
       "      <td>0.705882</td>\n",
       "      <td>0.749020</td>\n",
       "      <td>0.729412</td>\n",
       "    </tr>\n",
       "  </tbody>\n",
       "</table>\n",
       "<p>5 rows × 8192 columns</p>\n",
       "</div>"
      ],
      "text/plain": [
       "       0         1         2         3         4         5         6     \\\n",
       "0  0.631373  0.623529  0.713726  0.705882  0.658824  0.666667  0.654902   \n",
       "1  0.725490  0.752941  0.749020  0.701961  0.690196  0.721569  0.709804   \n",
       "2  0.717647  0.701961  0.713726  0.733333  0.705882  0.717647  0.725490   \n",
       "3  0.705882  0.674510  0.654902  0.678431  0.666667  0.662745  0.678431   \n",
       "4  0.647059  0.729412  0.701961  0.674510  0.611765  0.698039  0.713726   \n",
       "\n",
       "       7         8         9     ...      8182      8183      8184      8185  \\\n",
       "0  0.635294  0.647059  0.705882  ...  0.682353  0.611765  0.650980  0.658824   \n",
       "1  0.745098  0.654902  0.721569  ...  0.721569  0.698039  0.721569  0.686275   \n",
       "2  0.682353  0.717647  0.674510  ...  0.709804  0.694118  0.705882  0.682353   \n",
       "3  0.662745  0.686275  0.686275  ...  0.639216  0.662745  0.631373  0.643137   \n",
       "4  0.662745  0.701961  0.674510  ...  0.639216  0.670588  0.705882  0.674510   \n",
       "\n",
       "       8186      8187      8188      8189      8190      8191  \n",
       "0  0.600000  0.603922  0.654902  0.694118  0.658824  0.666667  \n",
       "1  0.713726  0.682353  0.690196  0.698039  0.701961  0.725490  \n",
       "2  0.639216  0.713726  0.670588  0.678431  0.737255  0.674510  \n",
       "3  0.705882  0.662745  0.705882  0.666667  0.654902  0.631373  \n",
       "4  0.721569  0.694118  0.674510  0.705882  0.749020  0.729412  \n",
       "\n",
       "[5 rows x 8192 columns]"
      ]
     },
     "execution_count": 3,
     "metadata": {},
     "output_type": "execute_result"
    }
   ],
   "source": [
    "train_images.head()"
   ]
  },
  {
   "cell_type": "code",
   "execution_count": 4,
   "metadata": {
    "colab": {},
    "colab_type": "code",
    "id": "BCQy-0ZsEgfa"
   },
   "outputs": [
    {
     "data": {
      "text/html": [
       "<div>\n",
       "<style scoped>\n",
       "    .dataframe tbody tr th:only-of-type {\n",
       "        vertical-align: middle;\n",
       "    }\n",
       "\n",
       "    .dataframe tbody tr th {\n",
       "        vertical-align: top;\n",
       "    }\n",
       "\n",
       "    .dataframe thead th {\n",
       "        text-align: right;\n",
       "    }\n",
       "</style>\n",
       "<table border=\"1\" class=\"dataframe\">\n",
       "  <thead>\n",
       "    <tr style=\"text-align: right;\">\n",
       "      <th></th>\n",
       "      <th>0</th>\n",
       "      <th>1</th>\n",
       "      <th>2</th>\n",
       "      <th>3</th>\n",
       "    </tr>\n",
       "  </thead>\n",
       "  <tbody>\n",
       "    <tr>\n",
       "      <th>0</th>\n",
       "      <td>1.0</td>\n",
       "      <td>0.0</td>\n",
       "      <td>0.0</td>\n",
       "      <td>0.0</td>\n",
       "    </tr>\n",
       "    <tr>\n",
       "      <th>1</th>\n",
       "      <td>1.0</td>\n",
       "      <td>0.0</td>\n",
       "      <td>0.0</td>\n",
       "      <td>0.0</td>\n",
       "    </tr>\n",
       "    <tr>\n",
       "      <th>2</th>\n",
       "      <td>1.0</td>\n",
       "      <td>0.0</td>\n",
       "      <td>0.0</td>\n",
       "      <td>0.0</td>\n",
       "    </tr>\n",
       "    <tr>\n",
       "      <th>3</th>\n",
       "      <td>1.0</td>\n",
       "      <td>0.0</td>\n",
       "      <td>0.0</td>\n",
       "      <td>0.0</td>\n",
       "    </tr>\n",
       "    <tr>\n",
       "      <th>4</th>\n",
       "      <td>1.0</td>\n",
       "      <td>0.0</td>\n",
       "      <td>0.0</td>\n",
       "      <td>0.0</td>\n",
       "    </tr>\n",
       "  </tbody>\n",
       "</table>\n",
       "</div>"
      ],
      "text/plain": [
       "     0    1    2    3\n",
       "0  1.0  0.0  0.0  0.0\n",
       "1  1.0  0.0  0.0  0.0\n",
       "2  1.0  0.0  0.0  0.0\n",
       "3  1.0  0.0  0.0  0.0\n",
       "4  1.0  0.0  0.0  0.0"
      ]
     },
     "execution_count": 4,
     "metadata": {},
     "output_type": "execute_result"
    }
   ],
   "source": [
    "train_labels.head()"
   ]
  },
  {
   "cell_type": "code",
   "execution_count": 5,
   "metadata": {
    "colab": {},
    "colab_type": "code",
    "id": "DfJSg_p8Egh4"
   },
   "outputs": [
    {
     "name": "stdout",
     "output_type": "stream",
     "text": [
      "Training set shape: (3200, 8192) (3200, 4)\n",
      "Validation set shape: (800, 8192) (800, 4)\n"
     ]
    }
   ],
   "source": [
    "print(\"Training set shape:\", train_images.shape, train_labels.shape)\n",
    "print(\"Validation set shape:\", val_images.shape, val_labels.shape)"
   ]
  },
  {
   "cell_type": "code",
   "execution_count": 6,
   "metadata": {
    "colab": {},
    "colab_type": "code",
    "id": "FJGhlNb2Egj7"
   },
   "outputs": [],
   "source": [
    "x_train = train_images.values.reshape(3200, 64, 128, 1)\n",
    "y_train = train_labels.values\n",
    "\n",
    "x_val = val_images.values.reshape(800, 64, 128, 1)\n",
    "y_val = val_labels.values"
   ]
  },
  {
   "cell_type": "markdown",
   "metadata": {
    "colab_type": "text",
    "id": "pAC1DPXrF8oS"
   },
   "source": [
    "## Step 3: Plot 2D Spectrograms"
   ]
  },
  {
   "cell_type": "code",
   "execution_count": 11,
   "metadata": {
    "colab": {},
    "colab_type": "code",
    "id": "PTOmtFOaEgpN"
   },
   "outputs": [
    {
     "data": {
      "image/png": "[encoded data removed]",
      "text/plain": [
       "<Figure size 864x864 with 3 Axes>"
      ]
     },
     "metadata": {},
     "output_type": "display_data"
    }
   ],
   "source": [
    "plt.figure(0, figsize=(12,12))\n",
    "\n",
    "for i in range(1,4):\n",
    "    plt.subplot(1,3,i)\n",
    "    img = np.squeeze(x_train[np.random.randint(0, x_train.shape[0])])\n",
    "    plt.xticks([])\n",
    "    plt.yticks([])\n",
    "    plt.imshow(img, cmap='gray')"
   ]
  },
  {
   "cell_type": "markdown",
   "metadata": {
    "colab_type": "text",
    "id": "jqJJhvGkGqz1"
   },
   "source": [
    "## Step 4: Create Training and Validation Data Generators"
   ]
  },
  {
   "cell_type": "code",
   "execution_count": 21,
   "metadata": {
    "colab": {},
    "colab_type": "code",
    "id": "tP6I_MnnGwW-"
   },
   "outputs": [],
   "source": [
    "from tensorflow.keras.preprocessing.image import ImageDataGenerator\n",
    "\n",
    "datagen_train = ImageDataGenerator(horizontal_flip=True)\n",
    "datagen_train.fit(x_train)\n",
    "\n",
    "datagen_val = ImageDataGenerator(horizontal_flip=True)\n",
    "datagen_val.fit(x_val)"
   ]
  },
  {
   "cell_type": "markdown",
   "metadata": {
    "colab_type": "text",
    "id": "-UEvdu2bHKEQ"
   },
   "source": [
    "## Step 5: Creating the CNN Model"
   ]
  },
  {
   "cell_type": "code",
   "execution_count": 27,
   "metadata": {
    "colab": {},
    "colab_type": "code",
    "id": "tqpC-6NQGwrQ"
   },
   "outputs": [],
   "source": [
    "from tensorflow.keras.models import Sequential\n",
    "from tensorflow.keras.layers import Dense, Input, Dropout,Flatten, Conv2D\n",
    "from tensorflow.keras.layers import BatchNormalization, Activation, MaxPooling2D\n",
    "\n",
    "from tensorflow.keras.optimizers.schedules import ExponentialDecay\n",
    "from tensorflow.keras.optimizers import Adam\n",
    "from tensorflow.keras.callbacks import ModelCheckpoint\n",
    "\n",
    "from livelossplot import PlotLossesKerasTF"
   ]
  },
  {
   "cell_type": "code",
   "execution_count": 13,
   "metadata": {
    "colab": {},
    "colab_type": "code",
    "id": "h5dB9u7nHqG0"
   },
   "outputs": [],
   "source": [
    "# Initialising the CNN\n",
    "model = Sequential()\n",
    "\n",
    "# 1st Convolution\n",
    "model.add(Conv2D(32, (5,5), padding='same', input_shape=(64,128,1)))\n",
    "model.add(BatchNormalization())\n",
    "model.add(Activation('relu'))\n",
    "model.add(MaxPooling2D(pool_size=(2,2)))\n",
    "model.add(Dropout(0.25))\n",
    "\n",
    "# 2nd Convolution layer\n",
    "model.add(Conv2D(64, (5,5), padding='same'))\n",
    "model.add(BatchNormalization())\n",
    "model.add(Activation('relu'))\n",
    "model.add(MaxPooling2D(pool_size=(2,2)))\n",
    "model.add(Dropout(0.25))\n",
    "\n",
    "# Flattening\n",
    "model.add(Flatten())\n",
    "\n",
    "# Fully connected layer\n",
    "model.add(Dense(1024))\n",
    "model.add(BatchNormalization())\n",
    "model.add(Activation('relu'))\n",
    "model.add(Dropout(0.4))\n",
    "\n",
    "model.add(Dense(4, activation='softmax'))"
   ]
  },
  {
   "cell_type": "markdown",
   "metadata": {
    "colab_type": "text",
    "id": "LmXdhu-6H7Q5"
   },
   "source": [
    "## Step 6: Learning Rate Scheduling and Compile the Model"
   ]
  },
  {
   "cell_type": "code",
   "execution_count": 18,
   "metadata": {
    "colab": {},
    "colab_type": "code",
    "id": "JNEKTceqGwuX"
   },
   "outputs": [],
   "source": [
    "initial_lr = 0.005\n",
    "lr_schedule = ExponentialDecay(initial_learning_rate=initial_lr, decay_steps=5, decay_rate=0.96, staircase=True)\n",
    "optimizer = Adam(learning_rate=lr_schedule)"
   ]
  },
  {
   "cell_type": "code",
   "execution_count": 19,
   "metadata": {
    "colab": {},
    "colab_type": "code",
    "id": "IZi5V0W7GwxL"
   },
   "outputs": [
    {
     "name": "stdout",
     "output_type": "stream",
     "text": [
      "Model: \"sequential\"\n",
      "_________________________________________________________________\n",
      "Layer (type)                 Output Shape              Param #   \n",
      "=================================================================\n",
      "conv2d (Conv2D)              (None, 64, 128, 32)       832       \n",
      "_________________________________________________________________\n",
      "batch_normalization (BatchNo (None, 64, 128, 32)       128       \n",
      "_________________________________________________________________\n",
      "activation (Activation)      (None, 64, 128, 32)       0         \n",
      "_________________________________________________________________\n",
      "max_pooling2d (MaxPooling2D) (None, 32, 64, 32)        0         \n",
      "_________________________________________________________________\n",
      "dropout (Dropout)            (None, 32, 64, 32)        0         \n",
      "_________________________________________________________________\n",
      "conv2d_1 (Conv2D)            (None, 32, 64, 64)        51264     \n",
      "_________________________________________________________________\n",
      "batch_normalization_1 (Batch (None, 32, 64, 64)        256       \n",
      "_________________________________________________________________\n",
      "activation_1 (Activation)    (None, 32, 64, 64)        0         \n",
      "_________________________________________________________________\n",
      "max_pooling2d_1 (MaxPooling2 (None, 16, 32, 64)        0         \n",
      "_________________________________________________________________\n",
      "dropout_1 (Dropout)          (None, 16, 32, 64)        0         \n",
      "_________________________________________________________________\n",
      "flatten (Flatten)            (None, 32768)             0         \n",
      "_________________________________________________________________\n",
      "dense (Dense)                (None, 1024)              33555456  \n",
      "_________________________________________________________________\n",
      "batch_normalization_2 (Batch (None, 1024)              4096      \n",
      "_________________________________________________________________\n",
      "activation_2 (Activation)    (None, 1024)              0         \n",
      "_________________________________________________________________\n",
      "dropout_2 (Dropout)          (None, 1024)              0         \n",
      "_________________________________________________________________\n",
      "dense_1 (Dense)              (None, 4)                 4100      \n",
      "=================================================================\n",
      "Total params: 33,616,132\n",
      "Trainable params: 33,613,892\n",
      "Non-trainable params: 2,240\n",
      "_________________________________________________________________\n"
     ]
    }
   ],
   "source": [
    "model.compile(loss='categorical_crossentropy', optimizer=optimizer, metrics=['accuracy'])\n",
    "model.summary()"
   ]
  },
  {
   "cell_type": "markdown",
   "metadata": {
    "colab_type": "text",
    "id": "tfqcUL6DIKDR"
   },
   "source": [
    "## Task 7: Training the Model"
   ]
  },
  {
   "cell_type": "code",
   "execution_count": 20,
   "metadata": {
    "colab": {},
    "colab_type": "code",
    "id": "1fuvoWEXIQfZ"
   },
   "outputs": [],
   "source": [
    "checkpoint = ModelCheckpoint('model_weights.h5', monitor='val_loss', save_weights_only=True, verbose=0)\n",
    "callbacks = [PlotLossesKerasTF(), checkpoint]"
   ]
  },
  {
   "cell_type": "code",
   "execution_count": 22,
   "metadata": {
    "colab": {},
    "colab_type": "code",
    "id": "zyaFllz-IQiD"
   },
   "outputs": [
    {
     "data": {
      "image/png": "[encoded data removed]",
      "text/plain": [
       "<Figure size 864x576 with 2 Axes>"
      ]
     },
     "metadata": {
      "needs_background": "light"
     },
     "output_type": "display_data"
    },
    {
     "name": "stdout",
     "output_type": "stream",
     "text": [
      "accuracy\n",
      "\ttraining         \t (min:    0.665, max:    0.755, cur:    0.738)\n",
      "\tvalidation       \t (min:    0.250, max:    0.794, cur:    0.794)\n",
      "Loss\n",
      "\ttraining         \t (min:    0.379, max:    0.695, cur:    0.384)\n",
      "\tvalidation       \t (min:    0.361, max:    3.952, cur:    0.373)\n",
      "100/100 [==============================] - 19s 193ms/step - loss: 0.3836 - accuracy: 0.7378 - val_loss: 0.3728 - val_accuracy: 0.7937\n"
     ]
    }
   ],
   "source": [
    "history = model.fit(\n",
    "    datagen_train.flow(x_train, y_train, batch_size=32, shuffle=True),\n",
    "    steps_per_epoch=len(x_train)//32,\n",
    "    validation_data=datagen_val.flow(x_train, y_train, batch_size=32, shuffle=True),\n",
    "    validation_steps=len(x_val)//32,\n",
    "    epochs=12,\n",
    "    callbacks=callbacks\n",
    "    )"
   ]
  },
  {
   "cell_type": "markdown",
   "metadata": {
    "colab_type": "text",
    "id": "Out7Wpj_Ic-g"
   },
   "source": [
    "## Task 8: Model Evaluation"
   ]
  },
  {
   "cell_type": "code",
   "execution_count": 23,
   "metadata": {
    "colab": {},
    "colab_type": "code",
    "id": "MJTxGMVEIdlp"
   },
   "outputs": [
    {
     "name": "stdout",
     "output_type": "stream",
     "text": [
      " 1/25 [>.............................] - ETA: 0s - loss: 0.2563 - accuracy: 0.9688WARNING:tensorflow:Callbacks method `on_test_batch_end` is slow compared to the batch time (batch time: 0.0046s vs `on_test_batch_end` time: 0.0248s). Check your callbacks.\n",
      "25/25 [==============================] - 1s 29ms/step - loss: 0.3787 - accuracy: 0.7550\n"
     ]
    },
    {
     "data": {
      "text/plain": [
       "[0.37873023748397827, 0.7549999952316284]"
      ]
     },
     "execution_count": 23,
     "metadata": {},
     "output_type": "execute_result"
    }
   ],
   "source": [
    "model.evaluate(x_val, y_val)"
   ]
  },
  {
   "cell_type": "code",
   "execution_count": 28,
   "metadata": {
    "colab": {},
    "colab_type": "code",
    "id": "LmgNzJFYIdos"
   },
   "outputs": [
    {
     "name": "stdout",
     "output_type": "stream",
     "text": [
      "              precision    recall  f1-score   support\n",
      "\n",
      "           0       1.00      0.98      0.99       200\n",
      "           1       0.51      0.59      0.55       200\n",
      "           2       0.52      0.45      0.48       200\n",
      "           3       1.00      1.00      1.00       200\n",
      "\n",
      "    accuracy                           0.76       800\n",
      "   macro avg       0.76      0.76      0.76       800\n",
      "weighted avg       0.76      0.76      0.76       800\n",
      "\n"
     ]
    }
   ],
   "source": [
    "from sklearn.metrics import classification_report, confusion_matrix\n",
    "import seaborn as sns\n",
    "\n",
    "y_true = np.argmax(y_val, 1)\n",
    "y_pred = np.argmax(model.predict(x_val), 1)\n",
    "print(classification_report(y_true, y_pred))"
   ]
  },
  {
   "cell_type": "code",
   "execution_count": 46,
   "metadata": {
    "colab": {},
    "colab_type": "code",
    "id": "yxaqITweIdr5"
   },
   "outputs": [
    {
     "data": {
      "text/plain": [
       "<matplotlib.axes._subplots.AxesSubplot at 0x2045ad25860>"
      ]
     },
     "execution_count": 46,
     "metadata": {},
     "output_type": "execute_result"
    },
    {
     "data": {
      "image/png": "[encoded data removed]",
      "text/plain": [
       "<Figure size 432x288 with 2 Axes>"
      ]
     },
     "metadata": {
      "needs_background": "light"
     },
     "output_type": "display_data"
    }
   ],
   "source": [
    "labels = [\"squiggle\", \"narrowband\", \"noise\", \"narrowbanddrd\"]\n",
    "cm = confusion_matrix(y_true, y_pred)\n",
    "sns.heatmap(cm, annot=True, fmt='d', linewidths=.5, xticklabels=labels, yticklabels=labels)"
   ]
  },
  {
   "cell_type": "code",
   "execution_count": null,
   "metadata": {},
   "outputs": [],
   "source": []
  }
 ],
 "metadata": {
  "colab": {
   "collapsed_sections": [],
   "name": "Completed_Notebook.ipynb",
   "provenance": []
  },
  "kernelspec": {
   "display_name": "Python 3",
   "language": "python",
   "name": "python3"
  },
  "language_info": {
   "codemirror_mode": {
    "name": "ipython",
    "version": 3
   },
   "file_extension": ".py",
   "mimetype": "text/x-python",
   "name": "python",
   "nbconvert_exporter": "python",
   "pygments_lexer": "ipython3",
   "version": "3.6.8"
  }
 },
 "nbformat": 4,
 "nbformat_minor": 1
}
